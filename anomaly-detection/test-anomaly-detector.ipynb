{
 "cells": [
  {
   "cell_type": "code",
   "execution_count": 1,
   "id": "667fa938",
   "metadata": {},
   "outputs": [],
   "source": [
    "import numpy as np\n",
    "\n",
    "from anomaly_detector import InWindowAnomalyDetector"
   ]
  },
  {
   "cell_type": "code",
   "execution_count": 2,
   "id": "473f192c",
   "metadata": {},
   "outputs": [],
   "source": [
    "RAND = 42\n",
    "WINDOW_WIDTH = 8"
   ]
  },
  {
   "cell_type": "code",
   "execution_count": 3,
   "id": "2955cc85",
   "metadata": {},
   "outputs": [
    {
     "data": {
      "text/plain": [
       "array([[51, 92, 14, 71, 60, 20, 82, 86, 74, 74, 87, 99],\n",
       "       [23,  2, 21, 52,  1, 87, 29, 37,  1, 63, 59, 20],\n",
       "       [32, 75, 57, 21, 88, 48, 90, 58, 41, 91, 59, 79],\n",
       "       [14, 61, 61, 46, 61, 50, 54, 63,  2, 50,  6, 20],\n",
       "       [72, 38, 17,  3, 88, 59, 13,  8, 89, 52,  1, 83],\n",
       "       [91, 59, 70, 43,  7, 46, 34, 77, 80, 35, 49,  3],\n",
       "       [ 1,  5, 53,  3, 53, 92, 62, 17, 89, 43, 33, 73],\n",
       "       [61, 99, 13, 94, 47, 14, 71, 77, 86, 61, 39, 84]])"
      ]
     },
     "execution_count": 3,
     "metadata": {},
     "output_type": "execute_result"
    }
   ],
   "source": [
    "np.random.seed(RAND)\n",
    "data = np.random.randint(0, 100, size=(8, 12))\n",
    "data"
   ]
  },
  {
   "cell_type": "code",
   "execution_count": 4,
   "id": "b084b538",
   "metadata": {},
   "outputs": [],
   "source": [
    "get_widow_at = lambda t: data.flatten()[t:(t + WINDOW_WIDTH)]"
   ]
  },
  {
   "cell_type": "code",
   "execution_count": 5,
   "id": "b46a8999",
   "metadata": {},
   "outputs": [],
   "source": [
    "detector = InWindowAnomalyDetector(verb=True)"
   ]
  },
  {
   "cell_type": "code",
   "execution_count": 6,
   "id": "39b00e92",
   "metadata": {},
   "outputs": [
    {
     "name": "stdout",
     "output_type": "stream",
     "text": [
      "Predicting whether [86] is anomalous or not, using a lag of (7,).\n",
      "True\n"
     ]
    },
    {
     "data": {
      "text/plain": [
       "True"
      ]
     },
     "execution_count": 6,
     "metadata": {},
     "output_type": "execute_result"
    }
   ],
   "source": [
    "t = 0\n",
    "w = get_widow_at(t)\n",
    "detector.predict(observation=w[-1], lag=w[:-1])"
   ]
  }
 ],
 "metadata": {
  "kernelspec": {
   "display_name": ".venv",
   "language": "python",
   "name": "python3"
  },
  "language_info": {
   "codemirror_mode": {
    "name": "ipython",
    "version": 3
   },
   "file_extension": ".py",
   "mimetype": "text/x-python",
   "name": "python",
   "nbconvert_exporter": "python",
   "pygments_lexer": "ipython3",
   "version": "3.9.6"
  }
 },
 "nbformat": 4,
 "nbformat_minor": 5
}

{
 "cells": [
  {
   "cell_type": "code",
   "execution_count": 8,
   "id": "efed5455",
   "metadata": {},
   "outputs": [],
   "source": [
    "import StreamStatistics\n",
    "import random\n",
    "import time\n",
    "import numpy as np\n",
    "\n",
    "from StreamStatistics import SimpleTDigest"
   ]
  },
  {
   "cell_type": "markdown",
   "id": "61638aca",
   "metadata": {},
   "source": [
    "## Synthetic Pythonic stream ##"
   ]
  },
  {
   "cell_type": "markdown",
   "id": "1b3e9ebd",
   "metadata": {},
   "source": [
    "A gaussian distribution with mu,variance = (0, 2) will be used, we will check when the method converges with Epsilon = 0.01 difference. "
   ]
  },
  {
   "cell_type": "code",
   "execution_count": 2,
   "id": "4af4323b",
   "metadata": {},
   "outputs": [],
   "source": [
    "def gaussian_stream(mu=0.0, sigma=2.0, rate=1.0):\n",
    "    \"\"\"\n",
    "    Generate an infinite stream of random numbers from a Gaussian (normal) distribution.\n",
    "\n",
    "    Parameters\n",
    "    ----------\n",
    "    mu : float\n",
    "        Mean of the Gaussian distribution.\n",
    "    sigma : float\n",
    "        Standard deviation of the Gaussian distribution.\n",
    "    rate : float\n",
    "        Number of samples per second (1.0 means 1 sample/sec).\n",
    "    \"\"\"\n",
    "    interval = 1.0 / rate\n",
    "    while True:\n",
    "        value = random.gauss(mu, sigma)\n",
    "        yield value\n",
    "        time.sleep(interval)\n"
   ]
  },
  {
   "cell_type": "code",
   "execution_count": 3,
   "id": "adf8dd1f",
   "metadata": {},
   "outputs": [
    {
     "name": "stdout",
     "output_type": "stream",
     "text": [
      "Current Mean -1.2333017016713241\n",
      "Current Variance 0\n",
      "Current Mean -0.8826541552924162\n",
      "Current Variance 0.24590740356309682\n",
      "Current Mean 0.020176891383429485\n",
      "Current Variance 2.568265398306958\n"
     ]
    },
    {
     "ename": "KeyboardInterrupt",
     "evalue": "",
     "output_type": "error",
     "traceback": [
      "\u001b[0;31m---------------------------------------------------------------------------\u001b[0m",
      "\u001b[0;31mKeyboardInterrupt\u001b[0m                         Traceback (most recent call last)",
      "Cell \u001b[0;32mIn[3], line 12\u001b[0m\n\u001b[1;32m      7\u001b[0m MovingSequential \u001b[38;5;241m=\u001b[39m StreamStatistics\u001b[38;5;241m.\u001b[39mMovingStatistics();\n\u001b[1;32m      9\u001b[0m Epsilon \u001b[38;5;241m=\u001b[39m \u001b[38;5;241m0.01\u001b[39m;\n\u001b[0;32m---> 12\u001b[0m \u001b[38;5;28;01mfor\u001b[39;00m i,sample \u001b[38;5;129;01min\u001b[39;00m \u001b[38;5;28menumerate\u001b[39m(gaussian_stream_generator):\n\u001b[1;32m     13\u001b[0m     MovingSequential\u001b[38;5;241m.\u001b[39mUpdateAll(sample);\n\u001b[1;32m     15\u001b[0m     \u001b[38;5;28mprint\u001b[39m(\u001b[38;5;124m\"\u001b[39m\u001b[38;5;124mCurrent Mean\u001b[39m\u001b[38;5;124m\"\u001b[39m,MovingSequential\u001b[38;5;241m.\u001b[39mmean);\n",
      "Cell \u001b[0;32mIn[2], line 18\u001b[0m, in \u001b[0;36mgaussian_stream\u001b[0;34m(mu, sigma, rate)\u001b[0m\n\u001b[1;32m     16\u001b[0m value \u001b[38;5;241m=\u001b[39m random\u001b[38;5;241m.\u001b[39mgauss(mu, sigma)\n\u001b[1;32m     17\u001b[0m \u001b[38;5;28;01myield\u001b[39;00m value\n\u001b[0;32m---> 18\u001b[0m \u001b[43mtime\u001b[49m\u001b[38;5;241;43m.\u001b[39;49m\u001b[43msleep\u001b[49m\u001b[43m(\u001b[49m\u001b[43minterval\u001b[49m\u001b[43m)\u001b[49m\n",
      "\u001b[0;31mKeyboardInterrupt\u001b[0m: "
     ]
    }
   ],
   "source": [
    "gaussian_stream_generator = gaussian_stream();\n",
    "\n",
    "mu = 0.0;\n",
    "\n",
    "sigma = 2.0;\n",
    "\n",
    "MovingSequential = StreamStatistics.MovingStatistics();\n",
    "\n",
    "Epsilon = 0.01;\n",
    "\n",
    "\n",
    "for i,sample in enumerate(gaussian_stream_generator):\n",
    "    MovingSequential.UpdateAll(sample);\n",
    "    \n",
    "    print(\"Current Mean\",MovingSequential.mean);\n",
    "\n",
    "    if abs(mu - MovingSequential.mean) <= Epsilon:\n",
    "        print(f\"Mean converge!! at {i}\");\n",
    "        break;\n",
    "    \n",
    "    if abs(sigma**2 - (MovingSequential.variance)) <= Epsilon:\n",
    "        print(f\"Variance converge {i}!!\");\n",
    "        break;\n",
    "    \n",
    "\n",
    "    \n",
    "    print(\"Current Variance\",MovingSequential.variance);\n",
    "\n"
   ]
  },
  {
   "cell_type": "markdown",
   "id": "4492e24d",
   "metadata": {},
   "source": [
    "The mean has converged after 66 samples while the variance is still not close to the true one."
   ]
  },
  {
   "cell_type": "code",
   "execution_count": 4,
   "id": "b1e3a38d",
   "metadata": {},
   "outputs": [
    {
     "name": "stdout",
     "output_type": "stream",
     "text": [
      "Current Mean -0.03581577932311007\n",
      "Current Variance 0\n",
      "Current Mean -0.04557040502311731\n",
      "Current Variance 0.004634428197058078\n",
      "Current Mean -0.1908203027426411\n",
      "Current Variance 0.07627443955981789\n"
     ]
    },
    {
     "ename": "KeyboardInterrupt",
     "evalue": "",
     "output_type": "error",
     "traceback": [
      "\u001b[0;31m---------------------------------------------------------------------------\u001b[0m",
      "\u001b[0;31mKeyboardInterrupt\u001b[0m                         Traceback (most recent call last)",
      "Cell \u001b[0;32mIn[4], line 12\u001b[0m\n\u001b[1;32m      7\u001b[0m MovingExponential \u001b[38;5;241m=\u001b[39m StreamStatistics\u001b[38;5;241m.\u001b[39mMovingStatistics(method\u001b[38;5;241m=\u001b[39m\u001b[38;5;124m\"\u001b[39m\u001b[38;5;124mexponential\u001b[39m\u001b[38;5;124m\"\u001b[39m);\n\u001b[1;32m      9\u001b[0m Epsilon \u001b[38;5;241m=\u001b[39m \u001b[38;5;241m0.01\u001b[39m;\n\u001b[0;32m---> 12\u001b[0m \u001b[38;5;28;01mfor\u001b[39;00m i,sample \u001b[38;5;129;01min\u001b[39;00m \u001b[38;5;28menumerate\u001b[39m(gaussian_stream_generator):\n\u001b[1;32m     15\u001b[0m     MovingExponential\u001b[38;5;241m.\u001b[39mUpdateAll(sample);\n\u001b[1;32m     16\u001b[0m     \u001b[38;5;28mprint\u001b[39m(\u001b[38;5;124m\"\u001b[39m\u001b[38;5;124mCurrent Mean\u001b[39m\u001b[38;5;124m\"\u001b[39m,MovingExponential\u001b[38;5;241m.\u001b[39mmean);\n",
      "Cell \u001b[0;32mIn[2], line 18\u001b[0m, in \u001b[0;36mgaussian_stream\u001b[0;34m(mu, sigma, rate)\u001b[0m\n\u001b[1;32m     16\u001b[0m value \u001b[38;5;241m=\u001b[39m random\u001b[38;5;241m.\u001b[39mgauss(mu, sigma)\n\u001b[1;32m     17\u001b[0m \u001b[38;5;28;01myield\u001b[39;00m value\n\u001b[0;32m---> 18\u001b[0m \u001b[43mtime\u001b[49m\u001b[38;5;241;43m.\u001b[39;49m\u001b[43msleep\u001b[49m\u001b[43m(\u001b[49m\u001b[43minterval\u001b[49m\u001b[43m)\u001b[49m\n",
      "\u001b[0;31mKeyboardInterrupt\u001b[0m: "
     ]
    }
   ],
   "source": [
    "gaussian_stream_generator = gaussian_stream();\n",
    "\n",
    "mu = 0.0;\n",
    "\n",
    "sigma = 2.0;\n",
    "\n",
    "MovingExponential = StreamStatistics.MovingStatistics(method=\"exponential\");\n",
    "\n",
    "Epsilon = 0.01;\n",
    "\n",
    "\n",
    "for i,sample in enumerate(gaussian_stream_generator):\n",
    "\n",
    "\n",
    "    MovingExponential.UpdateAll(sample);\n",
    "    print(\"Current Mean\",MovingExponential.mean);\n",
    "\n",
    "    if abs(mu - MovingExponential.mean) <= Epsilon and abs(last_mean - MovingExponential.mean) <= Epsilon:\n",
    "        print(f\"Mean converge!! at {i}\");\n",
    "        break;\n",
    "    \n",
    "    print(\"Current Variance\",MovingExponential.variance);\n",
    "    \n",
    "    if abs(sigma**2 - (MovingExponential.variance)) <= Epsilon and abs(last_variance - MovingExponential.variance) <= Epsilon:\n",
    "        print(f\"Variance converge {i}!!\");\n",
    "        break;\n",
    "    \n",
    "    last_mean = MovingExponential.mean;\n",
    "    last_variance = MovingExponential.variance;\n",
    "\n",
    "    \n",
    "\n"
   ]
  },
  {
   "cell_type": "markdown",
   "id": "aa0ae3ef",
   "metadata": {},
   "source": [
    "Mean converges at 176, and the variance is still far.\n"
   ]
  },
  {
   "cell_type": "code",
   "execution_count": 5,
   "id": "9b77e236",
   "metadata": {},
   "outputs": [
    {
     "name": "stdout",
     "output_type": "stream",
     "text": [
      "N is still smaller than window size\n",
      "Current Mean 0\n",
      "Current window [0.37046167 0.         0.         0.         0.         0.\n",
      " 0.         0.         0.         0.         0.         0.\n",
      " 0.         0.         0.         0.         0.         0.\n",
      " 0.         0.         0.         0.         0.         0.\n",
      " 0.         0.         0.         0.         0.         0.        ]\n",
      "Current Variance 0\n",
      "N is still smaller than window size\n",
      "Current Mean 0\n",
      "Current window [ 0.37046167 -2.79061565  0.          0.          0.          0.\n",
      "  0.          0.          0.          0.          0.          0.\n",
      "  0.          0.          0.          0.          0.          0.\n",
      "  0.          0.          0.          0.          0.          0.\n",
      "  0.          0.          0.          0.          0.          0.        ]\n",
      "Current Variance 0\n",
      "N is still smaller than window size\n",
      "Current Mean 0\n",
      "Current window [ 0.37046167 -2.79061565  0.08579302  0.          0.          0.\n",
      "  0.          0.          0.          0.          0.          0.\n",
      "  0.          0.          0.          0.          0.          0.\n",
      "  0.          0.          0.          0.          0.          0.\n",
      "  0.          0.          0.          0.          0.          0.        ]\n",
      "Current Variance 0\n"
     ]
    },
    {
     "ename": "KeyboardInterrupt",
     "evalue": "",
     "output_type": "error",
     "traceback": [
      "\u001b[0;31m---------------------------------------------------------------------------\u001b[0m",
      "\u001b[0;31mKeyboardInterrupt\u001b[0m                         Traceback (most recent call last)",
      "Cell \u001b[0;32mIn[5], line 8\u001b[0m\n\u001b[1;32m      4\u001b[0m WindowStatistic \u001b[38;5;241m=\u001b[39m StreamStatistics\u001b[38;5;241m.\u001b[39mWindowSequentialStatistics(window_size \u001b[38;5;241m=\u001b[39m \u001b[38;5;241m30\u001b[39m);\n\u001b[1;32m      5\u001b[0m Epsilon \u001b[38;5;241m=\u001b[39m \u001b[38;5;241m0.01\u001b[39m;\n\u001b[0;32m----> 8\u001b[0m \u001b[38;5;28;01mfor\u001b[39;00m i,sample \u001b[38;5;129;01min\u001b[39;00m \u001b[38;5;28menumerate\u001b[39m(gaussian_stream_generator):\n\u001b[1;32m     10\u001b[0m     WindowStatistic\u001b[38;5;241m.\u001b[39mUpdateAll(sample);\n\u001b[1;32m     11\u001b[0m     \u001b[38;5;28mprint\u001b[39m(\u001b[38;5;124m\"\u001b[39m\u001b[38;5;124mCurrent Mean\u001b[39m\u001b[38;5;124m\"\u001b[39m,WindowStatistic\u001b[38;5;241m.\u001b[39mmean);\n",
      "Cell \u001b[0;32mIn[2], line 18\u001b[0m, in \u001b[0;36mgaussian_stream\u001b[0;34m(mu, sigma, rate)\u001b[0m\n\u001b[1;32m     16\u001b[0m value \u001b[38;5;241m=\u001b[39m random\u001b[38;5;241m.\u001b[39mgauss(mu, sigma)\n\u001b[1;32m     17\u001b[0m \u001b[38;5;28;01myield\u001b[39;00m value\n\u001b[0;32m---> 18\u001b[0m \u001b[43mtime\u001b[49m\u001b[38;5;241;43m.\u001b[39;49m\u001b[43msleep\u001b[49m\u001b[43m(\u001b[49m\u001b[43minterval\u001b[49m\u001b[43m)\u001b[49m\n",
      "\u001b[0;31mKeyboardInterrupt\u001b[0m: "
     ]
    }
   ],
   "source": [
    "gaussian_stream_generator = gaussian_stream();\n",
    "mu = 1.0;\n",
    "sigma = 2.0;\n",
    "WindowStatistic = StreamStatistics.WindowSequentialStatistics(window_size = 30);\n",
    "Epsilon = 0.01;\n",
    "\n",
    "\n",
    "for i,sample in enumerate(gaussian_stream_generator):\n",
    "\n",
    "    WindowStatistic.UpdateAll(sample);\n",
    "    print(\"Current Mean\",WindowStatistic.mean);\n",
    "    print(\"Current window\", WindowStatistic.window)\n",
    "\n",
    "    if abs(mu - WindowStatistic.mean) <= Epsilon and abs(last_mean - WindowStatistic.mean) <= Epsilon:\n",
    "        print(f\"Mean converge!! at {i}\");\n",
    "        break;\n",
    "    \n",
    "    print(\"Current Variance\",WindowStatistic.variance);\n",
    "    \n",
    "    if abs(sigma**2 - (WindowStatistic.variance)) <= Epsilon and abs(last_variance - WindowStatistic.variance) <= Epsilon:\n",
    "        print(f\"Variance converge {i}!!\");\n",
    "        break;\n",
    "    \n",
    "    last_mean = WindowStatistic.mean;\n",
    "    last_variance = WindowStatistic.variance;\n",
    "\n",
    "    \n",
    "\n"
   ]
  },
  {
   "cell_type": "markdown",
   "id": "2e4e01cd",
   "metadata": {},
   "source": [
    "It converges only for large window sizes"
   ]
  },
  {
   "cell_type": "code",
   "execution_count": 9,
   "id": "c754cf16",
   "metadata": {},
   "outputs": [
    {
     "name": "stdout",
     "output_type": "stream",
     "text": [
      "1\n",
      "predicted 75% 2.574040274328646\n",
      "predicted 50% 2.574040274328646\n",
      "predicted 25% 2.574040274328646\n",
      "25%: 2.574040274328646, 50%: 2.574040274328646, 75%: 2.574040274328646\n",
      "2\n",
      "predicted 75% 2.574040274328646\n",
      "predicted 50% -1.1771260195017124\n",
      "predicted 25% -1.1771260195017124\n",
      "25%: -0.23933444604412268, 50%: 0.6984571274134668, 75%: 1.6362487008710564\n",
      "3\n",
      "predicted 75% 2.574040274328646\n",
      "predicted 50% -0.19482774824969448\n",
      "predicted 25% -1.1771260195017124\n",
      "25%: -0.6859768838757034, 50%: -0.19482774824969448, 75%: 1.189606263039476\n",
      "4\n",
      "predicted 75% 2.143367283990442\n",
      "predicted 50% -0.19482774824969448\n",
      "predicted 25% -1.1771260195017124\n",
      "25%: -0.440402316062699, 50%: 0.9742697678703738, 75%: 2.251035531574993\n"
     ]
    },
    {
     "ename": "KeyboardInterrupt",
     "evalue": "",
     "output_type": "error",
     "traceback": [
      "\u001b[0;31m---------------------------------------------------------------------------\u001b[0m",
      "\u001b[0;31mKeyboardInterrupt\u001b[0m                         Traceback (most recent call last)",
      "Cell \u001b[0;32mIn[9], line 7\u001b[0m\n\u001b[1;32m      5\u001b[0m Epsilon \u001b[38;5;241m=\u001b[39m \u001b[38;5;241m0.01\u001b[39m;\n\u001b[1;32m      6\u001b[0m data_list \u001b[38;5;241m=\u001b[39m []\n\u001b[0;32m----> 7\u001b[0m \u001b[38;5;28;01mfor\u001b[39;00m i,sample \u001b[38;5;129;01min\u001b[39;00m \u001b[38;5;28menumerate\u001b[39m(gaussian_stream_generator):\n\u001b[1;32m      9\u001b[0m     Digest\u001b[38;5;241m.\u001b[39mupdate(sample)\n\u001b[1;32m     10\u001b[0m     data_list\u001b[38;5;241m.\u001b[39mappend(sample);\n",
      "Cell \u001b[0;32mIn[2], line 18\u001b[0m, in \u001b[0;36mgaussian_stream\u001b[0;34m(mu, sigma, rate)\u001b[0m\n\u001b[1;32m     16\u001b[0m value \u001b[38;5;241m=\u001b[39m random\u001b[38;5;241m.\u001b[39mgauss(mu, sigma)\n\u001b[1;32m     17\u001b[0m \u001b[38;5;28;01myield\u001b[39;00m value\n\u001b[0;32m---> 18\u001b[0m \u001b[43mtime\u001b[49m\u001b[38;5;241;43m.\u001b[39;49m\u001b[43msleep\u001b[49m\u001b[43m(\u001b[49m\u001b[43minterval\u001b[49m\u001b[43m)\u001b[49m\n",
      "\u001b[0;31mKeyboardInterrupt\u001b[0m: "
     ]
    }
   ],
   "source": [
    "gaussian_stream_generator = gaussian_stream();\n",
    "mu = 1.0;\n",
    "sigma = 2.0;\n",
    "Digest = SimpleTDigest(delta=0.1);\n",
    "Epsilon = 0.01;\n",
    "data_list = []\n",
    "for i,sample in enumerate(gaussian_stream_generator):\n",
    "\n",
    "    Digest.update(sample)\n",
    "    data_list.append(sample);\n",
    "    print(len(Digest.centroids))\n",
    "    print(\"predicted 75%\",Digest.percentile(75))\n",
    "    print(\"predicted 50%\",Digest.percentile(50))\n",
    "    print(\"predicted 25%\",Digest.percentile(25))\n",
    "    q25, q50, q75 = np.percentile(data_list, [25, 50, 75])\n",
    "    print(f\"25%: {q25}, 50%: {q50}, 75%: {q75}\")\n"
   ]
  }
 ],
 "metadata": {
  "kernelspec": {
   "display_name": ".venv",
   "language": "python",
   "name": "python3"
  },
  "language_info": {
   "codemirror_mode": {
    "name": "ipython",
    "version": 3
   },
   "file_extension": ".py",
   "mimetype": "text/x-python",
   "name": "python",
   "nbconvert_exporter": "python",
   "pygments_lexer": "ipython3",
   "version": "3.9.6"
  }
 },
 "nbformat": 4,
 "nbformat_minor": 5
}
